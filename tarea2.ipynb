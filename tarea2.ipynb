{
 "cells": [
  {
   "cell_type": "code",
   "execution_count": 141,
   "metadata": {
    "collapsed": false
   },
   "outputs": [],
   "source": [
    "\n",
    "from time import time\n",
    "c = ipp.Client()\n",
    "dview = c[:]"
   ]
  },
  {
   "cell_type": "code",
   "execution_count": 193,
   "metadata": {
    "collapsed": true
   },
   "outputs": [],
   "source": [
    "import numpy as np\n",
    "import ipyparallel as ipp\n",
    "import matplotlib.pyplot as plt\n",
    "from pylab import plotfile, show, gca"
   ]
  },
  {
   "cell_type": "code",
   "execution_count": 62,
   "metadata": {
    "collapsed": false
   },
   "outputs": [
    {
     "data": {
      "text/plain": [
       "[0, 1, 2, 3]"
      ]
     },
     "execution_count": 62,
     "metadata": {},
     "output_type": "execute_result"
    }
   ],
   "source": [
    "c=ipp.Client()\n",
    "c.ids"
   ]
  },
  {
   "cell_type": "code",
   "execution_count": 65,
   "metadata": {
    "collapsed": false
   },
   "outputs": [
    {
     "data": {
      "text/plain": [
       "<DirectView [0, 1, 2, 3]>"
      ]
     },
     "execution_count": 65,
     "metadata": {},
     "output_type": "execute_result"
    }
   ],
   "source": [
    "c[0:4]"
   ]
  },
  {
   "cell_type": "code",
   "execution_count": 72,
   "metadata": {
    "collapsed": false
   },
   "outputs": [
    {
     "data": {
      "text/plain": [
       "(True, True, False, True)"
      ]
     },
     "execution_count": 72,
     "metadata": {},
     "output_type": "execute_result"
    }
   ],
   "source": [
    "def PrimeQA(x):\n",
    "    import numpy as np\n",
    "    return all(x%i for i in np.arange(int(x**0.5)+1)[2:])\n",
    "PrimeQ0(5), PrimeQ0(31), PrimeQ0(60), PrimeQ0(61)\n"
   ]
  },
  {
   "cell_type": "code",
   "execution_count": 73,
   "metadata": {
    "collapsed": false
   },
   "outputs": [
    {
     "name": "stdout",
     "output_type": "stream",
     "text": [
      "10 loops, best of 3: 44.5 ms per loop\n"
     ]
    }
   ],
   "source": [
    "%timeit list = dview.map_sync(PrimeQA, 2**np.arange(25)-1)\n"
   ]
  },
  {
   "cell_type": "code",
   "execution_count": 74,
   "metadata": {
    "collapsed": false
   },
   "outputs": [
    {
     "name": "stdout",
     "output_type": "stream",
     "text": [
      "100 loops, best of 3: 12.1 ms per loop\n"
     ]
    }
   ],
   "source": [
    "%timeit c[3].apply_sync(PrimeQ0, 25)"
   ]
  },
  {
   "cell_type": "code",
   "execution_count": 110,
   "metadata": {
    "collapsed": false
   },
   "outputs": [],
   "source": [
    "def PrimeQB(x):\n",
    "    import numpy as np\n",
    "    lista = np.arange(np.int(x**0.5)+1)[2:]\n",
    "    residuos = np.mod(x, lista)\n",
    "    return np.all(residuos)\n"
   ]
  },
  {
   "cell_type": "code",
   "execution_count": 111,
   "metadata": {
    "collapsed": true
   },
   "outputs": [],
   "source": [
    "def PrimeQC(x):\n",
    "    import numpy as np\n",
    "    lista = np.arange(np.int(x**0.5)+1)[2:]\n",
    "    residuos = np.mod(x,lista)\n",
    "    return np.all(residuos)#np.array([x % i for i in np.arange(np.int(x**0.5)+1)[2:]]))"
   ]
  },
  {
   "cell_type": "code",
   "execution_count": 167,
   "metadata": {
    "collapsed": true
   },
   "outputs": [],
   "source": [
    "time?\n"
   ]
  },
  {
   "cell_type": "markdown",
   "metadata": {},
   "source": [
    "#### se define una funcion derviada de la que se tenia originalmente los tiempos de ejecucion, se obtienen de la resta de un tiempo inicial con un tiempo final tomado despues de la ejecucion, dicho tiempo esta en segundos para las tres funciones de PrimeQ. Con el fin de poder variar los valores que reciben omo parametro los PrimeQ se metiero dentro de un for."
   ]
  },
  {
   "cell_type": "code",
   "execution_count": 260,
   "metadata": {
    "collapsed": false
   },
   "outputs": [],
   "source": [
    "\n",
    "listaPrimeQA = []\n",
    "i =2\n",
    "for i in range(30):\n",
    "    tiempoInicial = time()\n",
    "    c[:].apply_sync(PrimeQA, 2**i)\n",
    "    tiempoFinal = time()\n",
    "    listaPrimeQA.append(tiempoFinal-tiempoInicial) \n",
    "\n"
   ]
  },
  {
   "cell_type": "code",
   "execution_count": 261,
   "metadata": {
    "collapsed": true
   },
   "outputs": [],
   "source": [
    "listaPrimeQB = []\n",
    "i =2\n",
    "for i in range(30):\n",
    "    tiempoInicial = time()\n",
    "    c[:].apply_sync(PrimeQB, 2**i)\n",
    "    tiempoFinal = time()\n",
    "    listaPrimeQB.append(tiempoFinal-tiempoInicial) \n",
    "\n"
   ]
  },
  {
   "cell_type": "code",
   "execution_count": 262,
   "metadata": {
    "collapsed": true
   },
   "outputs": [],
   "source": [
    "listaPrimeQC = []\n",
    "i =2\n",
    "for i in range(30):\n",
    "    tiempoInicial = time()\n",
    "    c[:].apply_sync(PrimeQC, 2**i)\n",
    "    tiempoFinal = time()\n",
    "    listaPrimeQC.append(tiempoFinal-tiempoInicial) \n"
   ]
  },
  {
   "cell_type": "markdown",
   "metadata": {},
   "source": [
    "### Estos son los tiempos de ejecucion de cada PrimeQ"
   ]
  },
  {
   "cell_type": "code",
   "execution_count": 263,
   "metadata": {
    "collapsed": false
   },
   "outputs": [
    {
     "data": {
      "text/plain": [
       "[0.09954190254211426,\n",
       " 0.09472393989562988,\n",
       " 0.08437299728393555,\n",
       " 0.08249616622924805,\n",
       " 0.11255097389221191,\n",
       " 0.09091901779174805,\n",
       " 0.08382296562194824,\n",
       " 0.1229410171508789,\n",
       " 0.10087800025939941,\n",
       " 0.09239888191223145,\n",
       " 0.11035680770874023,\n",
       " 0.09789299964904785,\n",
       " 0.09615612030029297,\n",
       " 0.08838510513305664,\n",
       " 0.08026790618896484,\n",
       " 0.0867009162902832,\n",
       " 0.08324599266052246,\n",
       " 0.08336400985717773,\n",
       " 0.08872389793395996,\n",
       " 0.09980082511901855,\n",
       " 0.08422708511352539,\n",
       " 0.08188104629516602,\n",
       " 0.0974578857421875,\n",
       " 0.09881591796875,\n",
       " 0.08033108711242676,\n",
       " 0.08800005912780762,\n",
       " 0.09323787689208984,\n",
       " 0.09804892539978027,\n",
       " 0.11305117607116699,\n",
       " 0.13554811477661133]"
      ]
     },
     "execution_count": 263,
     "metadata": {},
     "output_type": "execute_result"
    }
   ],
   "source": [
    "listaPrimeQA"
   ]
  },
  {
   "cell_type": "code",
   "execution_count": 264,
   "metadata": {
    "collapsed": false
   },
   "outputs": [
    {
     "data": {
      "text/plain": [
       "[0.0986940860748291,\n",
       " 0.10285615921020508,\n",
       " 0.09292912483215332,\n",
       " 0.09784603118896484,\n",
       " 0.1121511459350586,\n",
       " 0.10446810722351074,\n",
       " 0.10009598731994629,\n",
       " 0.08188796043395996,\n",
       " 0.09053993225097656,\n",
       " 0.07947206497192383,\n",
       " 0.08890604972839355,\n",
       " 0.09757304191589355,\n",
       " 0.09804987907409668,\n",
       " 0.07743191719055176,\n",
       " 0.09276390075683594,\n",
       " 0.11134910583496094,\n",
       " 0.08276700973510742,\n",
       " 0.08687210083007812,\n",
       " 0.0853891372680664,\n",
       " 0.08741497993469238,\n",
       " 0.08088898658752441,\n",
       " 0.08738279342651367,\n",
       " 0.10110092163085938,\n",
       " 0.11581087112426758,\n",
       " 0.10625004768371582,\n",
       " 0.1179969310760498,\n",
       " 0.08684611320495605,\n",
       " 0.08721303939819336,\n",
       " 0.09546685218811035,\n",
       " 0.09544086456298828]"
      ]
     },
     "execution_count": 264,
     "metadata": {},
     "output_type": "execute_result"
    }
   ],
   "source": [
    "listaPrimeQB"
   ]
  },
  {
   "cell_type": "code",
   "execution_count": 265,
   "metadata": {
    "collapsed": false
   },
   "outputs": [
    {
     "data": {
      "text/plain": [
       "[0.09621787071228027,\n",
       " 0.09350395202636719,\n",
       " 0.0912480354309082,\n",
       " 0.08799004554748535,\n",
       " 0.08066105842590332,\n",
       " 0.08721017837524414,\n",
       " 0.10102605819702148,\n",
       " 0.10481786727905273,\n",
       " 0.08469986915588379,\n",
       " 0.08683991432189941,\n",
       " 0.08280396461486816,\n",
       " 0.09130096435546875,\n",
       " 0.09609413146972656,\n",
       " 0.08442807197570801,\n",
       " 0.08068394660949707,\n",
       " 0.08920502662658691,\n",
       " 0.09037184715270996,\n",
       " 0.11270499229431152,\n",
       " 0.08989906311035156,\n",
       " 0.08188796043395996,\n",
       " 0.08303403854370117,\n",
       " 0.08156394958496094,\n",
       " 0.08643698692321777,\n",
       " 0.09052920341491699,\n",
       " 0.10147595405578613,\n",
       " 0.09956622123718262,\n",
       " 0.09599804878234863,\n",
       " 0.10453009605407715,\n",
       " 0.09257817268371582,\n",
       " 0.0776669979095459]"
      ]
     },
     "execution_count": 265,
     "metadata": {},
     "output_type": "execute_result"
    }
   ],
   "source": [
    "listaPrimeQC"
   ]
  },
  {
   "cell_type": "markdown",
   "metadata": {},
   "source": [
    "### Para poder entender mejor el comportamiento de los diferentes PrimeQ se grafican los valores"
   ]
  },
  {
   "cell_type": "code",
   "execution_count": 266,
   "metadata": {
    "collapsed": true
   },
   "outputs": [],
   "source": [
    "from pylab import *"
   ]
  },
  {
   "cell_type": "code",
   "execution_count": 290,
   "metadata": {
    "collapsed": false
   },
   "outputs": [],
   "source": [
    "\n",
    "l1,    = plot(listaPrimeQA)\n",
    "l2,  = plot(listaPrimeQB)\n",
    "l4,    = plot(listaPrimeQC)\n",
    "legend( ('PrimeQA', 'PrimeQB ', 'PrimeQC') ,\n",
    "        loc = 'upper right')\n",
    "xlabel('potencia a la que fue elevado el 2')\n",
    "ylabel('tiempo en segundos')\n",
    "title('ejecuciones con apply sync')\n",
    "show()\n"
   ]
  },
  {
   "cell_type": "markdown",
   "metadata": {},
   "source": [
    "### veamos el comprtamiento que se ve presente con map sync"
   ]
  },
  {
   "cell_type": "code",
   "execution_count": 275,
   "metadata": {
    "collapsed": false
   },
   "outputs": [],
   "source": [
    "listaPrimeQAMap = []\n",
    "i =2\n",
    "for i in range(30):\n",
    "    tiempoInicial = time()\n",
    "    dview.map_sync(PrimeQA, np.arange(30))\n",
    "    tiempoFinal = time()\n",
    "    listaPrimeQAMap.append(tiempoFinal-tiempoInicial) \n"
   ]
  },
  {
   "cell_type": "code",
   "execution_count": 273,
   "metadata": {
    "collapsed": true
   },
   "outputs": [],
   "source": [
    "listaPrimeQBMap = []\n",
    "i =2\n",
    "for i in range(30):\n",
    "    tiempoInicial = time()\n",
    "    dview.map_sync(PrimeQB, np.arange(30))\n",
    "    tiempoFinal = time()\n",
    "    listaPrimeQBMap.append(tiempoFinal-tiempoInicial) \n"
   ]
  },
  {
   "cell_type": "code",
   "execution_count": 276,
   "metadata": {
    "collapsed": true
   },
   "outputs": [],
   "source": [
    "listaPrimeQCMap = []\n",
    "i =2\n",
    "for i in range(30):\n",
    "    tiempoInicial = time()\n",
    "    dview.map_sync(PrimeQC, np.arange(30))\n",
    "    tiempoFinal = time()\n",
    "    listaPrimeQCMap.append(tiempoFinal-tiempoInicial) \n"
   ]
  },
  {
   "cell_type": "code",
   "execution_count": 278,
   "metadata": {
    "collapsed": false
   },
   "outputs": [
    {
     "data": {
      "text/plain": [
       "[0.11020493507385254,\n",
       " 0.11644887924194336,\n",
       " 0.11091995239257812,\n",
       " 0.08766794204711914,\n",
       " 0.08801913261413574,\n",
       " 0.10175204277038574,\n",
       " 0.08810710906982422,\n",
       " 0.0857231616973877,\n",
       " 0.09269595146179199,\n",
       " 0.08309102058410645,\n",
       " 0.09547615051269531,\n",
       " 0.09812307357788086,\n",
       " 0.09685397148132324,\n",
       " 0.10867094993591309,\n",
       " 0.09660005569458008,\n",
       " 0.09621000289916992,\n",
       " 0.08547186851501465,\n",
       " 0.0885920524597168,\n",
       " 0.09168481826782227,\n",
       " 0.08667588233947754,\n",
       " 0.08537602424621582,\n",
       " 0.08231616020202637,\n",
       " 0.09693694114685059,\n",
       " 0.105133056640625,\n",
       " 0.09547996520996094,\n",
       " 0.09838199615478516,\n",
       " 0.08760404586791992,\n",
       " 0.09477686882019043,\n",
       " 0.08586001396179199,\n",
       " 0.08738112449645996]"
      ]
     },
     "execution_count": 278,
     "metadata": {},
     "output_type": "execute_result"
    }
   ],
   "source": [
    "listaPrimeQAMap"
   ]
  },
  {
   "cell_type": "code",
   "execution_count": 279,
   "metadata": {
    "collapsed": false
   },
   "outputs": [
    {
     "data": {
      "text/plain": [
       "[0.11655282974243164,\n",
       " 0.11237788200378418,\n",
       " 0.09077286720275879,\n",
       " 0.08571696281433105,\n",
       " 0.08962321281433105,\n",
       " 0.08822798728942871,\n",
       " 0.0989680290222168,\n",
       " 0.09767007827758789,\n",
       " 0.09568500518798828,\n",
       " 0.10035490989685059,\n",
       " 0.08455681800842285,\n",
       " 0.08851504325866699,\n",
       " 0.11007905006408691,\n",
       " 0.09164285659790039,\n",
       " 0.09102201461791992,\n",
       " 0.08959102630615234,\n",
       " 0.08586311340332031,\n",
       " 0.08975911140441895,\n",
       " 0.08847308158874512,\n",
       " 0.08527779579162598,\n",
       " 0.09189987182617188,\n",
       " 0.09143686294555664,\n",
       " 0.08592605590820312,\n",
       " 0.09857797622680664,\n",
       " 0.090972900390625,\n",
       " 0.08666586875915527,\n",
       " 0.08939909934997559,\n",
       " 0.0890650749206543,\n",
       " 0.09321904182434082,\n",
       " 0.09048891067504883]"
      ]
     },
     "execution_count": 279,
     "metadata": {},
     "output_type": "execute_result"
    }
   ],
   "source": [
    "listaPrimeQBMap"
   ]
  },
  {
   "cell_type": "code",
   "execution_count": 281,
   "metadata": {
    "collapsed": false
   },
   "outputs": [
    {
     "data": {
      "text/plain": [
       "[0.11282491683959961,\n",
       " 0.10327696800231934,\n",
       " 0.09508490562438965,\n",
       " 0.09278512001037598,\n",
       " 0.08635807037353516,\n",
       " 0.09053707122802734,\n",
       " 0.09469103813171387,\n",
       " 0.09397220611572266,\n",
       " 0.08891010284423828,\n",
       " 0.08666491508483887,\n",
       " 0.08333683013916016,\n",
       " 0.08783507347106934,\n",
       " 0.08575105667114258,\n",
       " 0.09748291969299316,\n",
       " 0.09092402458190918,\n",
       " 0.0931251049041748,\n",
       " 0.09668707847595215,\n",
       " 0.08594298362731934,\n",
       " 0.09469914436340332,\n",
       " 0.10182309150695801,\n",
       " 0.09794902801513672,\n",
       " 0.10847687721252441,\n",
       " 0.08916306495666504,\n",
       " 0.0883021354675293,\n",
       " 0.09329104423522949,\n",
       " 0.09093117713928223,\n",
       " 0.08930397033691406,\n",
       " 0.09840202331542969,\n",
       " 0.09127116203308105,\n",
       " 0.09319090843200684]"
      ]
     },
     "execution_count": 281,
     "metadata": {},
     "output_type": "execute_result"
    }
   ],
   "source": [
    "listaPrimeQCMap "
   ]
  },
  {
   "cell_type": "code",
   "execution_count": 298,
   "metadata": {
    "collapsed": true
   },
   "outputs": [],
   "source": [
    "l1,    = plot(listaPrimeQAMap  )\n",
    "l2,  = plot(listaPrimeQBMap )\n",
    "l4,    = plot(listaPrimeQCMap )\n",
    "legend( ('PrimeQA Map_sync', 'PrimeQB Map_sync', 'PrimeQC Map_sync') ,\n",
    "        loc = 'upper right')\n",
    "xlabel('potencia a la que fue elevado el 2')\n",
    "ylabel('tiempo en segundos')\n",
    "title('ejecuciones con apply sync')\n",
    "show()\n"
   ]
  },
  {
   "cell_type": "markdown",
   "metadata": {},
   "source": [
    "### ahora comparemos el comportamiento que se ve presente con map sync"
   ]
  },
  {
   "cell_type": "code",
   "execution_count": 293,
   "metadata": {
    "collapsed": true
   },
   "outputs": [],
   "source": [
    "l1,    = plot(listaPrimeQAMap  )\n",
    "l4,    = plot(listaPrimeQA )\n",
    "legend( ('PrimeQA Map_sync','PrimeQA apply_sync') ,\n",
    "        loc = 'upper right')\n",
    "xlabel('potencia a la que fue elevado el 2')\n",
    "ylabel('tiempo en segundos')\n",
    "title('comparaciones apply sync y map sync ')\n",
    "show()"
   ]
  },
  {
   "cell_type": "code",
   "execution_count": 295,
   "metadata": {
    "collapsed": true
   },
   "outputs": [],
   "source": [
    "l1,    = plot(listaPrimeQBMap  )\n",
    "l4,    = plot(listaPrimeQB )\n",
    "legend( ('PrimeQB Map_sync','PrimeQB apply_sync') ,\n",
    "        loc = 'upper right')\n",
    "xlabel('potencia a la que fue elevado el 2')\n",
    "ylabel('tiempo en segundos')\n",
    "title('comparaciones apply sync y map sync ')\n",
    "show()"
   ]
  },
  {
   "cell_type": "code",
   "execution_count": 297,
   "metadata": {
    "collapsed": true
   },
   "outputs": [],
   "source": [
    "l1,    = plot(listaPrimeQCMap  )\n",
    "l4,    = plot(listaPrimeQC )\n",
    "legend( ('PrimeQC Map_sync','PrimeQC apply_sync') ,\n",
    "        loc = 'upper right')\n",
    "xlabel('potencia a la que fue elevado el 2')\n",
    "ylabel('tiempo en segundos')\n",
    "title('comparaciones apply sync y map sync ')\n",
    "show()"
   ]
  }
 ],
 "metadata": {
  "kernelspec": {
   "display_name": "Python 2",
   "language": "python",
   "name": "python2"
  },
  "language_info": {
   "codemirror_mode": {
    "name": "ipython",
    "version": 2
   },
   "file_extension": ".py",
   "mimetype": "text/x-python",
   "name": "python",
   "nbconvert_exporter": "python",
   "pygments_lexer": "ipython2",
   "version": "2.7.13"
  }
 },
 "nbformat": 4,
 "nbformat_minor": 2
}
